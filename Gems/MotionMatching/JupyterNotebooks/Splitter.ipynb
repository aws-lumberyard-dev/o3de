{
 "cells": [
  {
   "cell_type": "code",
   "execution_count": null,
   "metadata": {},
   "outputs": [],
   "source": [
    "folderPath = \"D:/\""
   ]
  },
  {
   "cell_type": "code",
   "execution_count": null,
   "metadata": {},
   "outputs": [],
   "source": [
    "import numpy as np\n",
    "import pandas as pd\n",
    "\n",
    "def PrintGreen(text):\n",
    "    print('\\x1b[6;30;42m' + text + '\\x1b[0m')\n",
    "    \n",
    "def PrintRed(text):\n",
    "    print('\\33[41m' + text + '\\x1b[0m')\n",
    "\n",
    "def LoadData(filename, rowsName, columnsName):\n",
    "    newDataframe = pd.read_csv(filename, na_values = 'null')\n",
    "    if newDataframe.shape[0] > 0 and newDataframe.shape[1] > 0:\n",
    "        PrintGreen(\"Loading \" + filename + \" succeeded\");\n",
    "    else:\n",
    "        PrintRed(\"Loading \" + filename + \" failed!\");\n",
    "\n",
    "    print(rowsName + \" = \" + str(newDataframe.shape[0]))\n",
    "    print(columnsName + \" = \" + str(newDataframe.shape[1]))\n",
    "\n",
    "    return newDataframe\n",
    "\n",
    "# Ensure to show all columns\n",
    "pd.set_option('display.max_columns', None)"
   ]
  },
  {
   "cell_type": "code",
   "execution_count": null,
   "metadata": {},
   "outputs": [],
   "source": [
    "dataPosRotModelSpace = LoadData(folderPath + 'MotionMatchingDatabase_Poses_PosRot_ModelSpace_60Hz.csv', \"Frames\", \"PoseComponents\")\n",
    "dataPosRotModelSpace.head(15)"
   ]
  },
  {
   "cell_type": "code",
   "execution_count": null,
   "metadata": {},
   "outputs": [],
   "source": [
    "dataRotModelSpace = LoadData(folderPath + 'MotionMatchingDatabase_Poses_Rot_ModelSpace_60Hz.csv', \"Frames\", \"PoseComponents\")\n",
    "dataRotModelSpace.head(15)"
   ]
  },
  {
   "cell_type": "code",
   "execution_count": null,
   "metadata": {},
   "outputs": [],
   "source": [
    "dataPosRotLocalSpace = LoadData(folderPath + 'MotionMatchingDatabase_Poses_PosRot_LocalSpace_60Hz.csv', \"Frames\", \"PoseComponents\")\n",
    "dataPosRotLocalSpace.head(15)"
   ]
  },
  {
   "cell_type": "code",
   "execution_count": null,
   "metadata": {},
   "outputs": [],
   "source": [
    "dataRotLocalSpace = LoadData(folderPath + 'MotionMatchingDatabase_Poses_Rot_LocalSpace_60Hz.csv', \"Frames\", \"PoseComponents\")\n",
    "dataRotLocalSpace.head(15)"
   ]
  },
  {
   "cell_type": "code",
   "execution_count": null,
   "metadata": {},
   "outputs": [],
   "source": [
    "dataFeatures = LoadData(folderPath + 'MotionMatchingDatabase_Features_60Hz.csv', \"Frames\", \"FeatureComponents\")\n",
    "dataFeatures.head(50)"
   ]
  },
  {
   "cell_type": "code",
   "execution_count": null,
   "metadata": {},
   "outputs": [],
   "source": [
    "dataPosRotModelSpaceTesting = dataPosRotModelSpace.values[:20000]\n",
    "dataPosRotModelSpaceTraining = dataPosRotModelSpace.values[20000:]\n",
    "\n",
    "dataRotModelSpaceTesting = dataRotModelSpace.values[:20000]\n",
    "dataRotModelSpaceTraining = dataRotModelSpace.values[20000:]\n",
    "\n",
    "dataPosRotLocalSpaceTesting = dataPosRotLocalSpace.values[:20000]\n",
    "dataPosRotLocalSpaceTraining = dataPosRotLocalSpace.values[20000:]\n",
    "\n",
    "dataRotLocalSpaceTesting = dataRotLocalSpace.values[:20000]\n",
    "dataRotLocalSpaceTraining = dataRotLocalSpace.values[20000:]\n",
    "\n",
    "dataFeaturesTesting = dataFeatures.values[:20000]\n",
    "dataFeaturesTraining = dataFeatures.values[20000:]"
   ]
  },
  {
   "cell_type": "code",
   "execution_count": null,
   "metadata": {},
   "outputs": [],
   "source": [
    "outputDataPosRotModelSpaceTesting = pd.DataFrame(dataPosRotModelSpaceTesting, columns=dataPosRotModelSpace.columns.values)\n",
    "outputDataPosRotModelSpaceTraining = pd.DataFrame(dataPosRotModelSpaceTraining, columns=dataPosRotModelSpace.columns.values)\n",
    "\n",
    "outputDataRotModelSpaceTesting = pd.DataFrame(dataRotModelSpaceTesting, columns=dataRotModelSpace.columns.values)\n",
    "outputDataRotModelSpaceTraining = pd.DataFrame(dataRotModelSpaceTraining, columns=dataRotModelSpace.columns.values)\n",
    "\n",
    "outputDataPosRotLocalSpaceTesting = pd.DataFrame(dataPosRotLocalSpaceTesting, columns=dataPosRotLocalSpace.columns.values)\n",
    "outputDataPosRotLocalSpaceTraining = pd.DataFrame(dataPosRotLocalSpaceTraining, columns=dataPosRotLocalSpace.columns.values)\n",
    "\n",
    "outputDataRotLocalSpaceTesting = pd.DataFrame(dataRotLocalSpaceTesting, columns=dataRotLocalSpace.columns.values)\n",
    "outputDataRotLocalSpaceTraining = pd.DataFrame(dataRotLocalSpaceTraining, columns=dataRotLocalSpace.columns.values)\n",
    "\n",
    "outputDataFeaturesTesting = pd.DataFrame(dataFeaturesTesting, columns=dataFeatures.columns.values)\n",
    "outputDataFeaturesTraining = pd.DataFrame(dataFeaturesTraining, columns=dataFeatures.columns.values)"
   ]
  },
  {
   "cell_type": "code",
   "execution_count": null,
   "metadata": {},
   "outputs": [],
   "source": [
    "outputDataPosRotModelSpaceTesting.to_csv(\"D:/MotionMatchingDatabase_Poses_PosRot_ModelSpace_60Hz_Testing.csv\", index=False)\n",
    "outputDataPosRotModelSpaceTraining.to_csv(\"D:/MotionMatchingDatabase_Poses_PosRot_ModelSpace_60Hz_Training.csv\", index=False)\n",
    "\n",
    "outputDataRotModelSpaceTesting.to_csv(\"D:/MotionMatchingDatabase_Poses_Rot_ModelSpace_60Hz_Testing.csv\", index=False)\n",
    "outputDataRotModelSpaceTraining.to_csv(\"D:/MotionMatchingDatabase_Poses_Rot_ModelSpace_60Hz_Training.csv\", index=False)\n",
    "\n",
    "outputDataPosRotLocalSpaceTesting.to_csv(\"D:/MotionMatchingDatabase_Poses_PosRot_LocalSpace_60Hz_Testing.csv\", index=False)\n",
    "outputDataPosRotLocalSpaceTraining.to_csv(\"D:/MotionMatchingDatabase_Poses_PosRot_LocalSpace_60Hz_Training.csv\", index=False)\n",
    "\n",
    "outputDataRotLocalSpaceTesting.to_csv(\"D:/MotionMatchingDatabase_Poses_Rot_LocalSpace_60Hz_Testing.csv\", index=False)\n",
    "outputDataRotLocalSpaceTraining.to_csv(\"D:/MotionMatchingDatabase_Poses_Rot_LocalSpace_60Hz_Training.csv\", index=False)\n",
    "\n",
    "outputDataFeaturesTesting.to_csv(\"D:/MotionMatchingDatabase_Features_60Hz_Testing.csv\", index=False)\n",
    "outputDataFeaturesTraining.to_csv(\"D:/MotionMatchingDatabase_Features_60Hz_Training.csv\", index=False)"
   ]
  }
 ],
 "metadata": {
  "kernelspec": {
   "display_name": "Python 3.9.12 ('base')",
   "language": "python",
   "name": "python3"
  },
  "language_info": {
   "codemirror_mode": {
    "name": "ipython",
    "version": 3
   },
   "file_extension": ".py",
   "mimetype": "text/x-python",
   "name": "python",
   "nbconvert_exporter": "python",
   "pygments_lexer": "ipython3",
   "version": "3.9.12"
  },
  "orig_nbformat": 4,
  "vscode": {
   "interpreter": {
    "hash": "64e2c40b1e2e5187dbc581262b84e05636cbc152dfd1c72af75c368d3284d05b"
   }
  }
 },
 "nbformat": 4,
 "nbformat_minor": 2
}
