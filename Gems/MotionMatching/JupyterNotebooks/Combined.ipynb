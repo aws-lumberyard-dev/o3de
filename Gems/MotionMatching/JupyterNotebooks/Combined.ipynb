{
 "cells": [
  {
   "cell_type": "code",
   "execution_count": null,
   "metadata": {},
   "outputs": [],
   "source": [
    "folderPath = \"D:/\""
   ]
  },
  {
   "cell_type": "code",
   "execution_count": null,
   "metadata": {},
   "outputs": [],
   "source": [
    "import numpy as np\n",
    "import pandas as pd\n",
    "\n",
    "def PrintGreen(text):\n",
    "    print('\\x1b[6;30;42m' + text + '\\x1b[0m')\n",
    "    \n",
    "def PrintRed(text):\n",
    "    print('\\33[41m' + text + '\\x1b[0m')\n",
    "\n",
    "def LoadData(filename, rowsName, columnsName):\n",
    "    newDataframe = pd.read_csv(filename, na_values = 'null')\n",
    "    if newDataframe.shape[0] > 0 and newDataframe.shape[1] > 0:\n",
    "        PrintGreen(\"Loading \" + filename + \" succeeded\");\n",
    "    else:\n",
    "        PrintRed(\"Loading \" + filename + \" failed!\");\n",
    "\n",
    "    print(rowsName + \" = \" + str(newDataframe.shape[0]))\n",
    "    print(columnsName + \" = \" + str(newDataframe.shape[1]))\n",
    "\n",
    "    return newDataframe\n",
    "\n",
    "# Ensure to show all columns\n",
    "pd.set_option('display.max_columns', None)"
   ]
  },
  {
   "cell_type": "code",
   "execution_count": null,
   "metadata": {},
   "outputs": [],
   "source": [
    "dataPosRotModelSpace = LoadData(folderPath + 'MotionMatchingDatabase_Poses_PosRot_ModelSpace_60Hz.csv', \"Frames\", \"PoseComponents\")\n",
    "dataPosRotModelSpace.head(15)"
   ]
  },
  {
   "cell_type": "code",
   "execution_count": null,
   "metadata": {},
   "outputs": [],
   "source": [
    "dataPosRotModelSpaceTesting = LoadData(folderPath + 'MotionMatchingDatabase_Poses_PosRot_ModelSpace_60Hz_Testing.csv', \"Frames\", \"PoseComponents\")\n",
    "dataPosRotModelSpaceTesting.head(15)"
   ]
  },
  {
   "cell_type": "code",
   "execution_count": null,
   "metadata": {},
   "outputs": [],
   "source": [
    "dataRotLocalSpace = LoadData(folderPath + 'MotionMatchingDatabase_Poses_Rot_LocalSpace_60Hz_Training.csv', \"Frames\", \"PoseComponents\")\n",
    "dataRotLocalSpace.head(15)"
   ]
  },
  {
   "cell_type": "code",
   "execution_count": null,
   "metadata": {},
   "outputs": [],
   "source": [
    "dataRotLocalSpaceTesting = LoadData(folderPath + 'MotionMatchingDatabase_Poses_Rot_LocalSpace_60Hz_Testing.csv', \"Frames\", \"PoseComponents\")\n",
    "dataRotLocalSpaceTesting.head(15)"
   ]
  },
  {
   "cell_type": "code",
   "execution_count": null,
   "metadata": {},
   "outputs": [],
   "source": [
    "dataFeatures = LoadData(folderPath + 'MotionMatchingDatabase_Features_60Hz_Training.csv', \"Frames\", \"FeatureComponents\")\n",
    "dataFeatures.head(50)"
   ]
  },
  {
   "cell_type": "code",
   "execution_count": null,
   "metadata": {},
   "outputs": [],
   "source": [
    "dataFeaturesTesting = LoadData(folderPath + 'MotionMatchingDatabase_Features_60Hz_Testing.csv', \"Frames\", \"FeatureComponents\")\n",
    "dataFeaturesTesting.head(50)"
   ]
  },
  {
   "cell_type": "code",
   "execution_count": null,
   "metadata": {},
   "outputs": [],
   "source": [
    "from sklearn import preprocessing\n",
    "from sklearn.preprocessing import StandardScaler\n",
    "\n",
    "posRotModelSpaceDataScalerTesting = preprocessing.StandardScaler()\n",
    "posRotModelSpaceDataScalerTesting.fit(dataPosRotModelSpace.values)\n",
    "dataPosRotModelSpaceScaledTesting = posRotModelSpaceDataScalerTesting.transform(dataPosRotModelSpace.values)\n",
    "\n",
    "rotLocalSpaceDataScalerTesting = preprocessing.StandardScaler()\n",
    "rotLocalSpaceDataScalerTesting.fit(dataRotLocalSpace.values)\n",
    "dataRotLocalSpaceScaledTesting = rotLocalSpaceDataScalerTesting.transform(dataRotLocalSpace.values)\n",
    "\n",
    "featureDataScalerTesting = preprocessing.StandardScaler()\n",
    "featureDataScalerTesting.fit(dataFeatures.values)\n",
    "dataFeaturesScaledTesting = featureDataScalerTesting.transform(dataFeatures.values)\n",
    "\n",
    "featureDataScaler = preprocessing.StandardScaler()\n",
    "dataFeaturesScaled = featureDataScaler.fit_transform(dataFeatures.values)\n",
    "finalPoses = pd.DataFrame(dataPosRotModelSpaceScaledTesting, columns=dataPosRotModelSpace.columns.values)\n",
    "finalPoses"
   ]
  },
  {
   "cell_type": "code",
   "execution_count": null,
   "metadata": {},
   "outputs": [],
   "source": [
    "import onnxruntime\n",
    "import torch\n",
    "\n",
    "projector_session = onnxruntime.InferenceSession(\"D:/AutoEncoderModelSpace1layer1872to117SplitModelEncoder.onnx\")\n",
    "projector_input = dataPosRotModelSpaceScaledTesting\n",
    "X = torch.tensor(projector_input, dtype=torch.float32)\n",
    "projector_input = {\"input\": X.numpy()}\n",
    "projector_outs = projector_session.run(None, projector_input)"
   ]
  },
  {
   "cell_type": "code",
   "execution_count": null,
   "metadata": {},
   "outputs": [],
   "source": [
    "stepper_session = onnxruntime.InferenceSession(\"D:/Stepper2layer194to194RELUto194Epoch20LR1e-3Batch64NoBadFramesThreshold4.onnx\")\n",
    "stepper_input = np.concatenate((dataFeaturesScaledTesting, projector_outs[0]), axis=1) # concatenate horizontally\n",
    "X = torch.tensor(stepper_input, dtype=torch.float32)\n",
    "stepper_input = {\"input\": X.numpy()}\n",
    "stepper_outs = stepper_session.run(None, stepper_input)"
   ]
  },
  {
   "cell_type": "code",
   "execution_count": null,
   "metadata": {},
   "outputs": [],
   "source": [
    "stepper_input"
   ]
  },
  {
   "cell_type": "code",
   "execution_count": null,
   "metadata": {},
   "outputs": [],
   "source": [
    "decompressor_session = onnxruntime.InferenceSession(\"D:/DecompressorLocalSpace2layer194to1248RELUto1248Epoch100LR1e-4Batch64.onnx\")\n",
    "decompressor_input = stepper_outs[0]\n",
    "X = torch.tensor(decompressor_input, dtype=torch.float32)\n",
    "decompressor_input = {\"input\": X.numpy()}\n",
    "decompressor_outs = decompressor_session.run(None, decompressor_input)"
   ]
  },
  {
   "cell_type": "code",
   "execution_count": null,
   "metadata": {},
   "outputs": [],
   "source": [
    "finalPoses = pd.DataFrame(decompressor_outs[0], columns=dataRotLocalSpace.columns.values)\n",
    "finalPoses"
   ]
  },
  {
   "cell_type": "code",
   "execution_count": null,
   "metadata": {},
   "outputs": [],
   "source": [
    "finalPoses.to_csv(\"D:/OG_Test.csv\", index=False)"
   ]
  }
 ],
 "metadata": {
  "kernelspec": {
   "display_name": "Python 3.9.12 ('base')",
   "language": "python",
   "name": "python3"
  },
  "language_info": {
   "codemirror_mode": {
    "name": "ipython",
    "version": 3
   },
   "file_extension": ".py",
   "mimetype": "text/x-python",
   "name": "python",
   "nbconvert_exporter": "python",
   "pygments_lexer": "ipython3",
   "version": "3.9.12"
  },
  "orig_nbformat": 4,
  "vscode": {
   "interpreter": {
    "hash": "64e2c40b1e2e5187dbc581262b84e05636cbc152dfd1c72af75c368d3284d05b"
   }
  }
 },
 "nbformat": 4,
 "nbformat_minor": 2
}
